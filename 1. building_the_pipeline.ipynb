{
 "cells": [
  {
   "cell_type": "code",
   "execution_count": 2,
   "id": "b1e502b8-09cd-4822-a9a0-93743186c95e",
   "metadata": {},
   "outputs": [],
   "source": [
    "from transformers import pipeline"
   ]
  },
  {
   "cell_type": "markdown",
   "id": "0a0fd972-8d50-4771-b9f0-a7ae676f4b2c",
   "metadata": {},
   "source": [
    "## 1. Preprocessing with a tokenizer"
   ]
  },
  {
   "cell_type": "code",
   "execution_count": 6,
   "id": "dea69462-b44c-4798-bc1d-8095a069ac66",
   "metadata": {},
   "outputs": [],
   "source": [
    "# load the tokenizer\n",
    "from transformers import AutoTokenizer\n",
    "\n",
    "checkpoint = \"distilbert-base-uncased-finetuned-sst-2-english\"\n",
    "tokenizer = AutoTokenizer.from_pretrained(checkpoint)"
   ]
  },
  {
   "cell_type": "code",
   "execution_count": 8,
   "id": "39e5bc77-c7cd-4361-bd56-085e5b7f4b77",
   "metadata": {},
   "outputs": [
    {
     "name": "stdout",
     "output_type": "stream",
     "text": [
      "{'input_ids': tensor([[  101,  1045,  1005,  2310,  2042,  3403,  2005,  1037, 17662, 12172,\n",
      "          2607,  2026,  2878,  2166,  1012,   102],\n",
      "        [  101,  1045,  5223,  2023,  2061,  2172,   999,   102,     0,     0,\n",
      "             0,     0,     0,     0,     0,     0]]), 'attention_mask': tensor([[1, 1, 1, 1, 1, 1, 1, 1, 1, 1, 1, 1, 1, 1, 1, 1],\n",
      "        [1, 1, 1, 1, 1, 1, 1, 1, 0, 0, 0, 0, 0, 0, 0, 0]])}\n"
     ]
    }
   ],
   "source": [
    "raw_inputs = [\n",
    "    \"I've been waiting for a HuggingFace course my whole life.\",\n",
    "    \"I hate this so much!\",\n",
    "]\n",
    "inputs = tokenizer(raw_inputs, padding=True, truncation=True, return_tensors=\"pt\")\n",
    "print(inputs) #return tensor for tokens and attention_mask"
   ]
  },
  {
   "cell_type": "markdown",
   "id": "0d95eaf7-39a0-40d1-b1c7-e926763974ed",
   "metadata": {},
   "source": [
    "## 2. Going through the model"
   ]
  },
  {
   "cell_type": "code",
   "execution_count": 10,
   "id": "63137c66-9884-42cb-b6b6-df517473573e",
   "metadata": {},
   "outputs": [],
   "source": [
    "from transformers import AutoModel\n",
    "\n",
    "# Load a pretrained model\n",
    "checkpoint = \"distilbert-base-uncased-finetuned-sst-2-english\"\n",
    "model = AutoModel.from_pretrained(checkpoint)"
   ]
  },
  {
   "cell_type": "code",
   "execution_count": 13,
   "id": "e4f19806-50d8-4121-9008-e561b94c58c8",
   "metadata": {},
   "outputs": [
    {
     "name": "stdout",
     "output_type": "stream",
     "text": [
      "torch.Size([2, 16, 768])\n"
     ]
    }
   ],
   "source": [
    "# create the hiddle state after embedding and attention layers; the hidden state is to capture the \"meaning\" of each token in its context\n",
    "outputs = model(**inputs)\n",
    "print(outputs.last_hidden_state.shape)\n",
    "# 2 refers to how many sentences, 16 refers to how many tokens in each sentncees, 768 refers to the number of dimensions in each token’s \"magic\" embedding vector"
   ]
  },
  {
   "cell_type": "markdown",
   "id": "b0648058-3205-4076-89e5-5de8024116d0",
   "metadata": {},
   "source": [
    "## 3. Model heads: Making sense out of numbers"
   ]
  },
  {
   "cell_type": "code",
   "execution_count": 15,
   "id": "d5e49226-9b8e-4e55-9361-d412682842cd",
   "metadata": {},
   "outputs": [
    {
     "name": "stdout",
     "output_type": "stream",
     "text": [
      "tensor([[-1.5607,  1.6123],\n",
      "        [ 4.1692, -3.3464]], grad_fn=<AddmmBackward0>)\n"
     ]
    }
   ],
   "source": [
    "# adding model head\n",
    "# For sentiment analysis, use a model with a sequence classification head\n",
    "from transformers import AutoModelForSequenceClassification\n",
    "\n",
    "model = AutoModelForSequenceClassification.from_pretrained(checkpoint)\n",
    "outputs = model(**inputs)\n",
    "print(outputs.logits)\n",
    "#Sentence 1: Scores for [NEGATIVE, POSITIVE] \n",
    "#Sentence 2: Scores for [NEGATIVE, POSITIVE]"
   ]
  },
  {
   "cell_type": "markdown",
   "id": "8561ac9d-e0aa-4ad2-ab78-e4b4b3732bc9",
   "metadata": {},
   "source": [
    "## 4. Postprocessing the output"
   ]
  },
  {
   "cell_type": "code",
   "execution_count": 16,
   "id": "59cd0cdd-bab1-4609-aa65-ac6e72f4820e",
   "metadata": {},
   "outputs": [
    {
     "name": "stdout",
     "output_type": "stream",
     "text": [
      "tensor([[-1.5607,  1.6123],\n",
      "        [ 4.1692, -3.3464]], grad_fn=<AddmmBackward0>)\n"
     ]
    }
   ],
   "source": [
    "print(outputs.logits)"
   ]
  },
  {
   "cell_type": "code",
   "execution_count": 20,
   "id": "c31255fb-7567-4cae-a35f-420fb228274d",
   "metadata": {},
   "outputs": [
    {
     "name": "stdout",
     "output_type": "stream",
     "text": [
      "tensor([[4.0195e-02, 9.5981e-01],\n",
      "        [9.9946e-01, 5.4418e-04]], grad_fn=<SoftmaxBackward0>)\n"
     ]
    }
   ],
   "source": [
    "import torch\n",
    "\n",
    "predictions = torch.nn.functional.softmax(outputs.logits, dim=-1) #use softmax function to turn logits into probablities \n",
    "print(predictions)"
   ]
  },
  {
   "cell_type": "code",
   "execution_count": 21,
   "id": "cbe8cf67-d7be-4d18-bd4c-1887dafc1645",
   "metadata": {},
   "outputs": [
    {
     "data": {
      "text/plain": [
       "{0: 'NEGATIVE', 1: 'POSITIVE'}"
      ]
     },
     "execution_count": 21,
     "metadata": {},
     "output_type": "execute_result"
    }
   ],
   "source": [
    "model.config.id2label"
   ]
  },
  {
   "cell_type": "code",
   "execution_count": null,
   "id": "57ecc2f3-d1dd-4a0d-bb8e-43d3b2a8deb1",
   "metadata": {},
   "outputs": [],
   "source": []
  }
 ],
 "metadata": {
  "kernelspec": {
   "display_name": "Python 3 (ipykernel)",
   "language": "python",
   "name": "python3"
  },
  "language_info": {
   "codemirror_mode": {
    "name": "ipython",
    "version": 3
   },
   "file_extension": ".py",
   "mimetype": "text/x-python",
   "name": "python",
   "nbconvert_exporter": "python",
   "pygments_lexer": "ipython3",
   "version": "3.12.3"
  }
 },
 "nbformat": 4,
 "nbformat_minor": 5
}
